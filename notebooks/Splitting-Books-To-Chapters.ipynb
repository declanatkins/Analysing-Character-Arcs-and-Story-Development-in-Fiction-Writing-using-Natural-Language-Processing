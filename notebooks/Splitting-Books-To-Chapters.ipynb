{
 "cells": [
  {
   "cell_type": "code",
   "execution_count": 1,
   "id": "c5eda990",
   "metadata": {},
   "outputs": [],
   "source": [
    "import os\n",
    "import re"
   ]
  },
  {
   "cell_type": "code",
   "execution_count": 2,
   "id": "951f8fdb",
   "metadata": {},
   "outputs": [],
   "source": [
    "BOOKS = {\n",
    "    'DorianGray': {\n",
    "        'path': '../data/the-picture-of-dorian-gray.txt',\n",
    "        'chapter_divider_pattern': r'CHAPTER [IVX]+.\\n\\n',\n",
    "        'start_at': '\\n\\n\\nCHAPTER I.',\n",
    "        'end_at': 'THE END',\n",
    "    },\n",
    "    'ChristmasCarol': {\n",
    "        'path': '../data/a-christmas-carol.txt',\n",
    "        'chapter_divider_pattern': r'\\n\\nSTAVE [A-Z]+\\n\\n',\n",
    "        'start_at': '\\n\\nSTAVE ONE',\n",
    "        'end_at': 'End of the Project Gutenberg EBook of A Christmas Carol, by Charles Dickens',\n",
    "        'extra_removal_regexes': [\n",
    "            r'\\[[A-Za-z0-9_,\\-.\\'?!;\": \\n]+\\]',\n",
    "            r'\\+-+\\+',\n",
    "            r'\\|[A-Za-z0-9_,.\\-\\'?!;\": ]+\\|',\n",
    "        ]\n",
    "    },\n",
    "    'PrideAndPredjudice': {\n",
    "        'path': '../data/pride-and-prejudice.txt',\n",
    "        'chapter_divider_pattern': '\\n\\nChapter [IVX]+.\\[*|\\n\\nCHAPTER [IVX]+.\\[*',\n",
    "        'start_at': '\\n\\nChapter I.',\n",
    "        'end_at': '\\*\\*\\* END OF THE PROJECT GUTENBERG EBOOK PRIDE AND PREJUDICE \\*\\*\\*',\n",
    "        'extra_removal_regexes': [\n",
    "            r'\\[[A-Za-z0-9_,\\-.\\'\"?!;{}^&\\n: ]+\\]',\n",
    "        ],\n",
    "    },\n",
    "    'SilasMarner': {\n",
    "        'path': '../data/silas-marner.txt',\n",
    "        'chapter_divider_pattern': r'CHAPTER [IVX]+.\\n\\n',\n",
    "        'start_at': '\\n\\nCHAPTER I.',\n",
    "        'end_at': 'End of the Project Gutenberg EBook of Silas Marner, by George Eliot'\n",
    "    }\n",
    "}"
   ]
  },
  {
   "cell_type": "code",
   "execution_count": 3,
   "id": "4f77830b",
   "metadata": {},
   "outputs": [],
   "source": [
    "for book, params in BOOKS.items():\n",
    "    with open(params['path'], encoding='utf-8') as book_text:\n",
    "        full_text = book_text.read()\n",
    "        \n",
    "    unicode = '“”‘’—æáàéèêíôóúÁÉÍÓÚç'\n",
    "    mapping = '\"\"\\'\\'-eaaeeeioouAEIOUc'\n",
    "    \n",
    "    for char, mapping in zip(unicode, mapping):\n",
    "        full_text = full_text.replace(char, mapping)\n",
    "    \n",
    "        \n",
    "    full_text = full_text[re.search(params['start_at'], full_text).end():]\n",
    "    full_text = full_text = full_text[:re.search(params['end_at'], full_text).start()]\n",
    "\n",
    "    if extra_removal_regexes := params.get('extra_removal_regexes'):\n",
    "        for regex in extra_removal_regexes:\n",
    "            while len(re.findall(regex, full_text)):\n",
    "                full_text = re.sub(regex, '', full_text)\n",
    "    \n",
    "    full_text = full_text.strip()\n",
    "    \n",
    "    chapters = [text.strip() for text in re.split(params['chapter_divider_pattern'], full_text)]\n",
    "    \n",
    "    \n",
    "    os.makedirs(f'../data/{book}', exist_ok=True)\n",
    "    \n",
    "    for i, chapter in enumerate(chapters):\n",
    "        with open(f'../data/{book}/chapter-{i:02}.txt', 'w') as f:\n",
    "            f.write(chapter)\n",
    "    \n",
    "    with open(f'../data/{book}/cleaned.txt', 'w') as f:\n",
    "        f.write('\\n\\n\\n\\n'.join(chapters))\n",
    "        \n"
   ]
  },
  {
   "cell_type": "code",
   "execution_count": null,
   "id": "7f12a380",
   "metadata": {},
   "outputs": [],
   "source": []
  }
 ],
 "metadata": {
  "kernelspec": {
   "display_name": "Python 3 (ipykernel)",
   "language": "python",
   "name": "python3"
  },
  "language_info": {
   "codemirror_mode": {
    "name": "ipython",
    "version": 3
   },
   "file_extension": ".py",
   "mimetype": "text/x-python",
   "name": "python",
   "nbconvert_exporter": "python",
   "pygments_lexer": "ipython3",
   "version": "3.10.11"
  }
 },
 "nbformat": 4,
 "nbformat_minor": 5
}
