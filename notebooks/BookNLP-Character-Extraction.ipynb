{
 "cells": [
  {
   "cell_type": "code",
   "execution_count": 1,
   "id": "1340aa1b",
   "metadata": {},
   "outputs": [
    {
     "name": "stderr",
     "output_type": "stream",
     "text": [
      "2023-06-27 11:08:35.289017: I tensorflow/core/util/port.cc:110] oneDNN custom operations are on. You may see slightly different numerical results due to floating-point round-off errors from different computation orders. To turn them off, set the environment variable `TF_ENABLE_ONEDNN_OPTS=0`.\n",
      "2023-06-27 11:08:35.609173: I tensorflow/core/platform/cpu_feature_guard.cc:182] This TensorFlow binary is optimized to use available CPU instructions in performance-critical operations.\n",
      "To enable the following instructions: AVX2 AVX_VNNI FMA, in other operations, rebuild TensorFlow with the appropriate compiler flags.\n",
      "2023-06-27 11:08:37.318719: I tensorflow/compiler/xla/stream_executor/cuda/cuda_gpu_executor.cc:981] could not open file to read NUMA node: /sys/bus/pci/devices/0000:01:00.0/numa_node\n",
      "Your kernel may have been built without NUMA support.\n",
      "2023-06-27 11:08:37.322737: I tensorflow/compiler/xla/stream_executor/cuda/cuda_gpu_executor.cc:981] could not open file to read NUMA node: /sys/bus/pci/devices/0000:01:00.0/numa_node\n",
      "Your kernel may have been built without NUMA support.\n",
      "2023-06-27 11:08:37.323213: I tensorflow/compiler/xla/stream_executor/cuda/cuda_gpu_executor.cc:981] could not open file to read NUMA node: /sys/bus/pci/devices/0000:01:00.0/numa_node\n",
      "Your kernel may have been built without NUMA support.\n"
     ]
    },
    {
     "name": "stdout",
     "output_type": "stream",
     "text": [
      "using device cuda\n",
      "{'pipeline': 'entity,quote,supersense,event,coref', 'model': 'big'}\n",
      "downloading entities_google_bert_uncased_L-6_H-768_A-12-v1.0.model\n",
      "downloading coref_google_bert_uncased_L-12_H-768_A-12-v1.0.model\n",
      "downloading speaker_google_bert_uncased_L-12_H-768_A-12-v1.0.1.model\n"
     ]
    },
    {
     "data": {
      "application/vnd.jupyter.widget-view+json": {
       "model_id": "afdc9c9318514992bc20e6af670c6ac3",
       "version_major": 2,
       "version_minor": 0
      },
      "text/plain": [
       "Downloading (…)solve/main/vocab.txt:   0%|          | 0.00/232k [00:00<?, ?B/s]"
      ]
     },
     "metadata": {},
     "output_type": "display_data"
    },
    {
     "data": {
      "application/vnd.jupyter.widget-view+json": {
       "model_id": "f9fcce91936942189b7a8b4331a0a011",
       "version_major": 2,
       "version_minor": 0
      },
      "text/plain": [
       "Downloading (…)lve/main/config.json:   0%|          | 0.00/384 [00:00<?, ?B/s]"
      ]
     },
     "metadata": {},
     "output_type": "display_data"
    },
    {
     "data": {
      "application/vnd.jupyter.widget-view+json": {
       "model_id": "de4b7eb3275c4993827b5ad9341b8875",
       "version_major": 2,
       "version_minor": 0
      },
      "text/plain": [
       "Downloading pytorch_model.bin:   0%|          | 0.00/270M [00:00<?, ?B/s]"
      ]
     },
     "metadata": {},
     "output_type": "display_data"
    },
    {
     "data": {
      "application/vnd.jupyter.widget-view+json": {
       "model_id": "a62abbd365374381813a271bee793929",
       "version_major": 2,
       "version_minor": 0
      },
      "text/plain": [
       "Downloading (…)solve/main/vocab.txt:   0%|          | 0.00/232k [00:00<?, ?B/s]"
      ]
     },
     "metadata": {},
     "output_type": "display_data"
    },
    {
     "data": {
      "application/vnd.jupyter.widget-view+json": {
       "model_id": "243baa82de7c48a08934f398791981cc",
       "version_major": 2,
       "version_minor": 0
      },
      "text/plain": [
       "Downloading (…)lve/main/config.json:   0%|          | 0.00/385 [00:00<?, ?B/s]"
      ]
     },
     "metadata": {},
     "output_type": "display_data"
    },
    {
     "data": {
      "application/vnd.jupyter.widget-view+json": {
       "model_id": "3d6a800c19514b53bdee8486868be140",
       "version_major": 2,
       "version_minor": 0
      },
      "text/plain": [
       "Downloading pytorch_model.bin:   0%|          | 0.00/440M [00:00<?, ?B/s]"
      ]
     },
     "metadata": {},
     "output_type": "display_data"
    },
    {
     "name": "stdout",
     "output_type": "stream",
     "text": [
      "--- startup: 119.872 seconds ---\n"
     ]
    }
   ],
   "source": [
    "from booknlp.booknlp import BookNLP\n",
    "\n",
    "model_params={\n",
    "    \"pipeline\": \"entity,quote,supersense,event,coref\", \n",
    "    \"model\": \"big\",\n",
    "}\n",
    "\n",
    "booknlp=BookNLP(\"en\", model_params)"
   ]
  },
  {
   "cell_type": "code",
   "execution_count": 2,
   "id": "29f35a42",
   "metadata": {},
   "outputs": [
    {
     "name": "stdout",
     "output_type": "stream",
     "text": [
      "--- spacy: 9.121 seconds ---\n",
      "--- entities: 41.033 seconds ---\n",
      "--- quotes: 0.098 seconds ---\n",
      "--- attribution: 19.283 seconds ---\n",
      "--- name coref: 0.241 seconds ---\n",
      "--- coref: 17.145 seconds ---\n",
      "--- TOTAL (excl. startup): 87.484 seconds ---, 96044 words\n"
     ]
    }
   ],
   "source": [
    "input_file = '../data/DorianGray/cleaned.txt'\n",
    "output_dir = '../data/DorianGray/character-tagging/'\n",
    "book_id = 'DorianGray'\n",
    "\n",
    "\n",
    "booknlp.process(input_file, output_dir, book_id)"
   ]
  },
  {
   "cell_type": "code",
   "execution_count": 3,
   "id": "f317d24b",
   "metadata": {},
   "outputs": [
    {
     "name": "stdout",
     "output_type": "stream",
     "text": [
      "--- spacy: 2.060 seconds ---\n",
      "--- entities: 14.257 seconds ---\n",
      "--- quotes: 0.035 seconds ---\n",
      "--- attribution: 6.431 seconds ---\n",
      "--- name coref: 0.030 seconds ---\n",
      "--- coref: 6.624 seconds ---\n",
      "--- TOTAL (excl. startup): 29.801 seconds ---, 35947 words\n"
     ]
    }
   ],
   "source": [
    "input_file = '../data/ChristmasCarol/cleaned.txt'\n",
    "output_dir = '../data/ChristmasCarol/character-tagging/'\n",
    "book_id = 'ChristmasCarol'\n",
    "\n",
    "\n",
    "booknlp.process(input_file, output_dir, book_id)"
   ]
  },
  {
   "cell_type": "code",
   "execution_count": 4,
   "id": "026b55bb-f25b-4251-99ed-81ed284415f7",
   "metadata": {},
   "outputs": [
    {
     "name": "stdout",
     "output_type": "stream",
     "text": [
      "--- spacy: 4.955 seconds ---\n",
      "--- entities: 35.889 seconds ---\n",
      "--- quotes: 0.083 seconds ---\n",
      "--- attribution: 8.910 seconds ---\n",
      "--- name coref: 0.106 seconds ---\n",
      "--- coref: 13.959 seconds ---\n",
      "--- TOTAL (excl. startup): 64.355 seconds ---, 86693 words\n"
     ]
    }
   ],
   "source": [
    "input_file = '../data/SilasMarner/cleaned.txt'\n",
    "output_dir = '../data/SilasMarner/character-tagging/'\n",
    "book_id = 'SilasMarner'\n",
    "\n",
    "\n",
    "booknlp.process(input_file, output_dir, book_id)"
   ]
  },
  {
   "cell_type": "code",
   "execution_count": 5,
   "id": "55930b65",
   "metadata": {},
   "outputs": [
    {
     "name": "stdout",
     "output_type": "stream",
     "text": [
      "--- spacy: 9.649 seconds ---\n",
      "--- entities: 60.113 seconds ---\n",
      "--- quotes: 0.144 seconds ---\n",
      "--- attribution: 21.157 seconds ---\n",
      "--- name coref: 0.179 seconds ---\n",
      "--- coref: 25.691 seconds ---\n",
      "--- TOTAL (excl. startup): 117.615 seconds ---, 145063 words\n"
     ]
    }
   ],
   "source": [
    "input_file = '../data/PrideAndPredjudice/cleaned.txt'\n",
    "output_dir = '../data/PrideAndPredjudice/character-tagging/'\n",
    "book_id = 'PrideAndPredjudice'\n",
    "\n",
    "\n",
    "booknlp.process(input_file, output_dir, book_id)"
   ]
  }
 ],
 "metadata": {
  "kernelspec": {
   "display_name": "Python 3 (ipykernel)",
   "language": "python",
   "name": "python3"
  },
  "language_info": {
   "codemirror_mode": {
    "name": "ipython",
    "version": 3
   },
   "file_extension": ".py",
   "mimetype": "text/x-python",
   "name": "python",
   "nbconvert_exporter": "python",
   "pygments_lexer": "ipython3",
   "version": "3.10.11"
  }
 },
 "nbformat": 4,
 "nbformat_minor": 5
}
